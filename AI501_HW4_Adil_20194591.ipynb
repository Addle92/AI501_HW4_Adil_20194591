{
  "nbformat": 4,
  "nbformat_minor": 0,
  "metadata": {
    "colab": {
      "name": "AI501_HW4_Adil_20194591.ipynb",
      "provenance": [],
      "collapsed_sections": [],
      "authorship_tag": "ABX9TyN+idAchiz95m7oDmeH35V7",
      "include_colab_link": true
    },
    "kernelspec": {
      "display_name": "Python 3",
      "name": "python3"
    },
    "language_info": {
      "name": "python"
    }
  },
  "cells": [
    {
      "cell_type": "markdown",
      "metadata": {
        "id": "view-in-github",
        "colab_type": "text"
      },
      "source": [
        "<a href=\"https://colab.research.google.com/github/Addle92/AI501_HW4_Adil_20194591/blob/main/AI501_HW4_Adil_20194591.ipynb\" target=\"_parent\"><img src=\"https://colab.research.google.com/assets/colab-badge.svg\" alt=\"Open In Colab\"/></a>"
      ]
    },
    {
      "cell_type": "code",
      "metadata": {
        "id": "AOrMGUdlPnGk"
      },
      "source": [
        "import numpy as np\n",
        "import pandas as pd\n",
        "import scipy.stats as sp\n",
        "import matplotlib.pyplot as plt\n",
        "from MoG import *\n",
        "import util as plot\n"
      ],
      "execution_count": 1,
      "outputs": []
    },
    {
      "cell_type": "code",
      "metadata": {
        "id": "_qBzBSM-Pol6"
      },
      "source": [
        "#make sure to upload the text file X.txt in the same folder\n",
        "X = pd.read_csv('X.txt', header =None, delim_whitespace=True)\n",
        "\n",
        "k=5"
      ],
      "execution_count": 2,
      "outputs": []
    },
    {
      "cell_type": "code",
      "metadata": {
        "colab": {
          "base_uri": "https://localhost:8080/"
        },
        "id": "QtpWdj0DPza3",
        "outputId": "47fab85c-58e5-476f-e4e0-3f085d312d5f"
      },
      "source": [
        "mog = MixtureOfGaussain(X,k)\n",
        "mog.fit()"
      ],
      "execution_count": 3,
      "outputs": [
        {
          "output_type": "stream",
          "text": [
            "Iteration 1: log-likelihood is -8324.804322\n",
            "Iteration 2: log-likelihood is -7509.176395\n",
            "Iteration 3: log-likelihood is -6598.292629\n",
            "Iteration 4: log-likelihood is -6183.839306\n",
            "Iteration 5: log-likelihood is -6085.347866\n",
            "Iteration 6: log-likelihood is -6024.337075\n",
            "Iteration 7: log-likelihood is -5971.922445\n",
            "Iteration 8: log-likelihood is -5937.532993\n",
            "Iteration 9: log-likelihood is -5922.627771\n",
            "Iteration 10: log-likelihood is -5916.336035\n",
            "Iteration 11: log-likelihood is -5911.223954\n",
            "Iteration 12: log-likelihood is -5904.991155\n",
            "Iteration 13: log-likelihood is -5895.739568\n",
            "Iteration 14: log-likelihood is -5878.840051\n",
            "Iteration 15: log-likelihood is -5838.638874\n",
            "Iteration 16: log-likelihood is -5721.056450\n",
            "Iteration 17: log-likelihood is -5525.668268\n",
            "Iteration 18: log-likelihood is -5506.400862\n",
            "Iteration 19: log-likelihood is -5499.535808\n",
            "Iteration 20: log-likelihood is -5487.163954\n",
            "Iteration 21: log-likelihood is -5456.027929\n",
            "Iteration 22: log-likelihood is -5354.805292\n",
            "Iteration 23: log-likelihood is -5135.322145\n",
            "Iteration 24: log-likelihood is -4969.191589\n",
            "Iteration 25: log-likelihood is -4816.326827\n",
            "Iteration 26: log-likelihood is -4741.725942\n",
            "Iteration 27: log-likelihood is -4712.139414\n",
            "Iteration 28: log-likelihood is -4675.235784\n",
            "Iteration 29: log-likelihood is -4612.780839\n",
            "Iteration 30: log-likelihood is -4515.367035\n",
            "Iteration 31: log-likelihood is -4442.642860\n",
            "Iteration 32: log-likelihood is -4435.135984\n",
            "Iteration 33: log-likelihood is -4434.837652\n",
            "Iteration 34: log-likelihood is -4434.821451\n",
            "Iteration 35: log-likelihood is -4434.820685\n",
            "Iteration 36: log-likelihood is -4434.820651\n",
            "Terminate at 36-th iteration:log-likelihood is -4434.820651\n"
          ],
          "name": "stdout"
        }
      ]
    },
    {
      "cell_type": "code",
      "metadata": {
        "id": "siy2NneKbVf2",
        "colab": {
          "base_uri": "https://localhost:8080/",
          "height": 279
        },
        "outputId": "52b197d8-bf76-4512-d922-f19a4c73a23d"
      },
      "source": [
        "plot.plot_2D(mog,X)"
      ],
      "execution_count": 4,
      "outputs": [
        {
          "output_type": "display_data",
          "data": {
            "image/png": "[encoded data removed]",
            "text/plain": [
              "<Figure size 432x288 with 1 Axes>"
            ]
          },
          "metadata": {
            "tags": [],
            "needs_background": "light"
          }
        }
      ]
    }
  ]
}